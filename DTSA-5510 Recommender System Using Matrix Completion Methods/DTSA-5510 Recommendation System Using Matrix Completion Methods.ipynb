{
 "cells": [
  {
   "cell_type": "markdown",
   "metadata": {
    "deletable": false,
    "editable": false,
    "nbgrader": {
     "cell_type": "markdown",
     "checksum": "32e45eb6bcc8c7d1db2d846fc120d426",
     "grade": false,
     "grade_id": "cell-e212d9fd41f03b18",
     "locked": true,
     "schema_version": 3,
     "solution": false,
     "task": false
    }
   },
   "source": [
    "# Building Recommender Systems for Movie Rating Prediction\n",
    "\n",
    "In this assignment, we will build a recommender systems that predict movie ratings. [MovieLense](https://grouplens.org/datasets/movielens/) has currently 25 million user-movie ratings.  Since the entire data is too big, we use  a 1 million ratings subset [MovieLens 1M](https://www.kaggle.com/odedgolden/movielens-1m-dataset), and we reformatted the data to make it more convenient to use."
   ]
  },
  {
   "cell_type": "code",
   "execution_count": 1,
   "metadata": {
    "deletable": false,
    "editable": false,
    "nbgrader": {
     "cell_type": "code",
     "checksum": "069f66d81507ea520c1fe5098352b437",
     "grade": false,
     "grade_id": "cell-ea989c7a4eb25b70",
     "locked": true,
     "schema_version": 3,
     "solution": false,
     "task": false
    }
   },
   "outputs": [],
   "source": [
    "import pandas as pd\n",
    "import matplotlib.pyplot as plt\n",
    "import numpy as np\n",
    "import time\n",
    "from sklearn.model_selection import train_test_split\n",
    "from scipy.sparse import coo_matrix, csr_matrix\n",
    "from scipy.spatial.distance import jaccard, cosine \n",
    "from pytest import approx"
   ]
  },
  {
   "cell_type": "code",
   "execution_count": 2,
   "metadata": {
    "deletable": false,
    "editable": false,
    "nbgrader": {
     "cell_type": "code",
     "checksum": "cdeafa5886528c497f33ffde32d9b7bb",
     "grade": false,
     "grade_id": "cell-476e59a408937946",
     "locked": true,
     "schema_version": 3,
     "solution": false,
     "task": false
    }
   },
   "outputs": [],
   "source": [
    "MV_users = pd.read_csv('data/users.csv')\n",
    "MV_movies = pd.read_csv('data/movies.csv')\n",
    "train = pd.read_csv('data/train.csv')\n",
    "test = pd.read_csv('data/test.csv')"
   ]
  },
  {
   "cell_type": "code",
   "execution_count": 3,
   "metadata": {
    "deletable": false,
    "editable": false,
    "nbgrader": {
     "cell_type": "code",
     "checksum": "a0ddf339d993a9dfb1046fa9c762eb28",
     "grade": false,
     "grade_id": "cell-9dea5c452642998d",
     "locked": true,
     "schema_version": 3,
     "solution": false,
     "task": false
    }
   },
   "outputs": [],
   "source": [
    "from collections import namedtuple\n",
    "Data = namedtuple('Data', ['users','movies','train','test'])\n",
    "data = Data(MV_users, MV_movies, train, test)"
   ]
  },
  {
   "cell_type": "code",
   "execution_count": 4,
   "metadata": {
    "deletable": false,
    "nbgrader": {
     "cell_type": "code",
     "checksum": "b203240e52b0e6e18286e3797922e639",
     "grade": false,
     "grade_id": "cell-f9c7ee3867550bb6",
     "locked": false,
     "schema_version": 3,
     "solution": true,
     "task": false
    }
   },
   "outputs": [],
   "source": [
    "class RecSys():\n",
    "    def __init__(self,data):\n",
    "        self.data=data\n",
    "        self.allusers = list(self.data.users['uID'])\n",
    "        self.allmovies = list(self.data.movies['mID'])\n",
    "        self.genres = list(self.data.movies.columns.drop(['mID', 'title', 'year']))\n",
    "        self.mid2idx = dict(zip(self.data.movies.mID,list(range(len(self.data.movies)))))\n",
    "        self.uid2idx = dict(zip(self.data.users.uID,list(range(len(self.data.users)))))\n",
    "        self.Mr=self.rating_matrix()\n",
    "        self.Mm=None \n",
    "        self.sim=np.zeros((len(self.allmovies),len(self.allmovies)))\n",
    "        \n",
    "    def rating_matrix(self):\n",
    "        \"\"\"\n",
    "        Convert the rating matrix to numpy array of shape (#allusers, #allmovies)\n",
    "        \"\"\"\n",
    "        ind_movie = [self.mid2idx[x] for x in self.data.train.mID] \n",
    "        ind_user = [self.uid2idx[x] for x in self.data.train.uID]\n",
    "        rating_train = list(self.data.train.rating)\n",
    "        \n",
    "        return np.array(coo_matrix((rating_train, (ind_user, ind_movie)), shape=(len(self.allusers), len(self.allmovies))).toarray())\n",
    "\n",
    "\n",
    "    def predict_everything_to_3(self):\n",
    "        \"\"\"\n",
    "        Predict everything to 3 for the test data\n",
    "        \"\"\"\n",
    "        # Generate an array with 3s against all entries in test dataset\n",
    "        # your code here\n",
    "        three_mat = np.full(self.data.test.shape[0], 3, 'int')\n",
    "        \n",
    "        return three_mat\n",
    "        \n",
    "    def predict_to_user_average(self):\n",
    "        \"\"\"\n",
    "        Predict to average rating for the user.\n",
    "        Returns numpy array of shape (#users,)\n",
    "        \"\"\"\n",
    "        # Generate an array as follows:\n",
    "        # 1. Calculate all avg user rating as sum of ratings of user across all movies/number of movies whose rating > 0\n",
    "        # 2. Return the average rating of users in test data\n",
    "        # your code here\n",
    "        \n",
    "        cleaned_train = self.data.train.replace(0, np.NaN)\n",
    "        uID_map = dict(cleaned_train.groupby('uID')['rating'].mean().replace(np.NaN, 0))\n",
    "        predictions = self.data.test.uID.map(uID_map)\n",
    "        \n",
    "        return predictions.values\n",
    "    \n",
    "    def predict_from_sim(self,uid,mid):\n",
    "        \"\"\"\n",
    "        Predict a user rating on a movie given userID and movieID\n",
    "        \"\"\"\n",
    "        # Predict user rating as follows:\n",
    "        # 1. Get entry of user id in rating matrix\n",
    "        # 2. Get entry of movie id in sim matrix\n",
    "        # 3. Employ 1 and 2 to predict user rating of the movie\n",
    "        # your code here\n",
    "        \n",
    "        user_idx = self.uid2idx[uid] \n",
    "        movie_idx = self.mid2idx[mid]\n",
    "\n",
    "        rated_movies = self.Mr[user_idx] != 0 \n",
    "        \n",
    "        weighted_sum = np.sum(self.Mr[user_idx][rated_movies] * self.sim[movie_idx][rated_movies])\n",
    "        raw_sum = np.sum(self.sim[movie_idx][rated_movies])\n",
    "        \n",
    "        pred_rating = weighted_sum / raw_sum if raw_sum != 0 else np.NaN\n",
    "        \n",
    "        return pred_rating\n",
    "    \n",
    "    def predict(self):\n",
    "        \"\"\"\n",
    "        Predict ratings in the test data. Returns predicted rating in a numpy array of size (# of rows in testdata,)\n",
    "        \"\"\"\n",
    "        # your code here\n",
    "        \n",
    "        predictions = self.data.test.apply(lambda x: self.predict_from_sim(x['uID'], x['mID']), axis=1)\n",
    "        \n",
    "        return predictions.values\n",
    "    \n",
    "    def rmse(self,yp):\n",
    "        yp[np.isnan(yp)]=3 #In case there is nan values in prediction, it will impute to 3.\n",
    "        yt=np.array(self.data.test.rating)\n",
    "        return np.sqrt(((yt-yp)**2).mean())\n",
    "\n",
    "    \n",
    "class ContentBased(RecSys):\n",
    "    def __init__(self,data):\n",
    "        super().__init__(data)\n",
    "        self.data=data\n",
    "        self.Mm = self.calc_movie_feature_matrix()  \n",
    "        self.sim = self.calc_item_item_similarity()\n",
    "        \n",
    "    def calc_movie_feature_matrix(self):\n",
    "        \"\"\"\n",
    "        Create movie feature matrix in a numpy array of shape (#allmovies, #genres) \n",
    "        \"\"\"\n",
    "        # your code here\n",
    "\n",
    "        return np.array(self.data.movies.drop(['mID', 'title', 'year'], axis=1)).astype(np.bool_)\n",
    "        \n",
    "    def calc_item_item_similarity(self):\n",
    "        \"\"\"\n",
    "        Create item-item similarity using Jaccard similarity\n",
    "        \"\"\"\n",
    "        # Update the sim matrix by calculating item-item similarity using Jaccard similarity\n",
    "        # Jaccard Similarity: J(A, B) = |A∩B| / |A∪B| \n",
    "        # your code here\n",
    "        \n",
    "        A = self.Mm\n",
    "        \n",
    "        intersection = np.logical_and(A[:, np.newaxis], A).sum(axis=2)\n",
    "        \n",
    "        union = np.logical_or(A[:, np.newaxis], A).sum(axis=2)\n",
    "        \n",
    "        return intersection / union        \n",
    "        \n",
    "        \n",
    "class Collaborative(RecSys):    \n",
    "    def __init__(self,data):\n",
    "        super().__init__(data)\n",
    "        \n",
    "    def calc_item_item_similarity(self, simfunction, *X):  \n",
    "        \"\"\"\n",
    "        Create item-item similarity using similarity function. \n",
    "        X is an optional transformed matrix of Mr\n",
    "        \"\"\"    \n",
    "        # General function that calculates item-item similarity based on the sim function and data inputed\n",
    "        if len(X)==0:\n",
    "            self.sim = simfunction()            \n",
    "        else:\n",
    "            if len(X)==1:\n",
    "                self.sim = simfunction(X[0]) # *X passes in a tuple format of (X,), to X[0] will be the actual transformed matrix\n",
    "            else:\n",
    "                self.sim = simfunction(Xr=X[0], chunk_size=X[1])\n",
    "                \n",
    "    def cossim(self):    \n",
    "        \"\"\"\n",
    "        Calculates item-item similarity for all pairs of items using cosine similarity (values from 0 to 1) on utility matrix\n",
    "        Returns a cosine similarity matrix of size (#all movies, #all movies)\n",
    "        \"\"\"\n",
    "        # Return a sim matrix by calculating item-item similarity for all pairs of items using Cosine similarity\n",
    "        # Cosine Similarity: C(A, B) = (A.B) / (||A||.||B||) \n",
    "        # your code here\n",
    "        from scipy.sparse.linalg import norm\n",
    "    \n",
    "        user_means = np.nanmean(np.where(self.Mr != 0, self.Mr, np.nan), axis=1)\n",
    "\n",
    "        # Subtract these means from the original rating matrix for only the rated movies.\n",
    "        centered_matrix = np.where(self.Mr != 0, self.Mr - user_means[:, np.newaxis], 0)\n",
    "\n",
    "        # Convert to CSR format for efficient calculations\n",
    "        A = csr_matrix(centered_matrix.T)\n",
    "\n",
    "        # Using the sparse matrix structure for dot product\n",
    "        dot_product = A.dot(A.T).toarray()\n",
    "\n",
    "        # Calculate norms using matrix operations\n",
    "        norms = np.array(norm(A, axis=1)).reshape(-1, 1)\n",
    "\n",
    "        product_of_magnitudes = norms.dot(norms.T)\n",
    "\n",
    "        # Handle divide-by-zero and calculate cosine similarity\n",
    "        sim_matrix = np.where(product_of_magnitudes != 0, 0.5 + 0.5 * dot_product / product_of_magnitudes, 0)\n",
    "\n",
    "        # Ensure diagonal is 1\n",
    "        np.fill_diagonal(sim_matrix, 1)\n",
    "\n",
    "        return np.squeeze(np.asarray(sim_matrix))\n",
    "    \n",
    "    def jacsim(self, Xr):\n",
    "        \"\"\"\n",
    "        Calculates item-item similarity for all pairs of items using Jaccard similarity (values from 0 to 1)\n",
    "        Xr is the transformed rating matrix.\n",
    "        \"\"\"\n",
    "\n",
    "        # Create a binary matrix based on non-zero values in Xr\n",
    "        A = csr_matrix((Xr > 0).astype(int).T)\n",
    "\n",
    "        # Adjust the shape of the intersection matrix to be square\n",
    "        n = Xr.shape[1]\n",
    "        intersection = np.zeros((n, n)).astype(int)\n",
    "\n",
    "        # Calculate intersections for each unique rating value\n",
    "        maxr = int(np.max(Xr))\n",
    "        for i in range(1, maxr + 1):\n",
    "            csr = csr_matrix((Xr == i).astype(int).T)\n",
    "            intersection += csr.dot(csr.T).toarray()\n",
    "\n",
    "        # Precompute the sum along rows\n",
    "        row_sums = np.array(A.sum(axis=1)).squeeze()\n",
    "\n",
    "        # Compute unions using the precomputed row sums\n",
    "        union = row_sums[:, None] + row_sums - intersection\n",
    "\n",
    "        # Compute Jaccard similarity using element-wise division\n",
    "        with np.errstate(divide='ignore', invalid='ignore'):\n",
    "            sim_matrix = intersection / union\n",
    "        sim_matrix[union == 0] = 0\n",
    "\n",
    "        # Ensure diagonal is 1\n",
    "        if sim_matrix.diagonal().sum() != n:\n",
    "            np.fill_diagonal(sim_matrix, 1)\n",
    "\n",
    "        return np.squeeze(np.asarray(sim_matrix))\n"
   ]
  },
  {
   "cell_type": "markdown",
   "metadata": {
    "deletable": false,
    "editable": false,
    "nbgrader": {
     "cell_type": "markdown",
     "checksum": "7da30c84f0fadd1ae2193af99888f526",
     "grade": false,
     "grade_id": "cell-5efe89bc06f7e6c5",
     "locked": true,
     "schema_version": 3,
     "solution": false,
     "task": false
    }
   },
   "source": [
    "# Q1. Baseline models [15 pts]\n",
    "\n",
    "### 1a. Complete the function `predict_everything_to_3` in the class `RecSys`  [5 pts]"
   ]
  },
  {
   "cell_type": "code",
   "execution_count": 5,
   "metadata": {
    "deletable": false,
    "editable": false,
    "nbgrader": {
     "cell_type": "code",
     "checksum": "bdd5d6c687c352a1ea45cfed3c7380eb",
     "grade": false,
     "grade_id": "cell-749c77774f53cfe1",
     "locked": true,
     "schema_version": 3,
     "solution": false,
     "task": false
    }
   },
   "outputs": [],
   "source": [
    "# Creating Sample test data\n",
    "np.random.seed(42)\n",
    "sample_train = train[:30000]\n",
    "sample_test = test[:30000]\n",
    "\n",
    "\n",
    "sample_MV_users = MV_users[(MV_users.uID.isin(sample_train.uID)) | (MV_users.uID.isin(sample_test.uID))]\n",
    "sample_MV_movies = MV_movies[(MV_movies.mID.isin(sample_train.mID)) | (MV_movies.mID.isin(sample_test.mID))]\n",
    "\n",
    "\n",
    "sample_data = Data(sample_MV_users, sample_MV_movies, sample_train, sample_test)"
   ]
  },
  {
   "cell_type": "code",
   "execution_count": 6,
   "metadata": {
    "deletable": false,
    "editable": false,
    "nbgrader": {
     "cell_type": "code",
     "checksum": "6a92dff8931c33032133faadb8a1b370",
     "grade": true,
     "grade_id": "cell-75645797e3541a77",
     "locked": true,
     "points": 1,
     "schema_version": 3,
     "solution": false,
     "task": false
    }
   },
   "outputs": [
    {
     "name": "stdout",
     "output_type": "stream",
     "text": [
      "1.2642784503423288\n"
     ]
    }
   ],
   "source": [
    "# Sample tests predict_everything_to_3 in class RecSys\n",
    "\n",
    "sample_rs = RecSys(sample_data)\n",
    "sample_yp = sample_rs.predict_everything_to_3()\n",
    "print(sample_rs.rmse(sample_yp))\n",
    "assert sample_rs.rmse(sample_yp)==approx(1.2642784503423288, abs=1e-3), \"Did you predict everything to 3 for the test data?\""
   ]
  },
  {
   "cell_type": "code",
   "execution_count": 7,
   "metadata": {
    "deletable": false,
    "editable": false,
    "nbgrader": {
     "cell_type": "code",
     "checksum": "15f5468947b1c6e116c2fa0fd70f70c8",
     "grade": true,
     "grade_id": "cell-52f19a05e8a8b1a3",
     "locked": true,
     "points": 5,
     "schema_version": 3,
     "solution": false,
     "task": false
    }
   },
   "outputs": [
    {
     "name": "stdout",
     "output_type": "stream",
     "text": [
      "1.2585510334053043\n"
     ]
    }
   ],
   "source": [
    "# Hidden tests predict_everything_to_3 in class RecSys\n",
    "rs = RecSys(data)\n",
    "yp = rs.predict_everything_to_3()\n",
    "print(rs.rmse(yp))"
   ]
  },
  {
   "cell_type": "markdown",
   "metadata": {
    "deletable": false,
    "editable": false,
    "nbgrader": {
     "cell_type": "markdown",
     "checksum": "38a23786301e38ef9c85f0c3620a0a9b",
     "grade": false,
     "grade_id": "cell-e32e46bf9f33dbb3",
     "locked": true,
     "schema_version": 3,
     "solution": false,
     "task": false
    }
   },
   "source": [
    "### 1b. Complete the function predict_to_user_average in the class RecSys [10 pts]\n",
    "Hint: Include rated items only when averaging"
   ]
  },
  {
   "cell_type": "code",
   "execution_count": 8,
   "metadata": {
    "deletable": false,
    "editable": false,
    "nbgrader": {
     "cell_type": "code",
     "checksum": "7939100c207d632a6588064be95e86d1",
     "grade": true,
     "grade_id": "cell-5f918ef5c3068eb7",
     "locked": true,
     "points": 1,
     "schema_version": 3,
     "solution": false,
     "task": false
    }
   },
   "outputs": [
    {
     "name": "stdout",
     "output_type": "stream",
     "text": [
      "1.1429596846619763\n"
     ]
    }
   ],
   "source": [
    "# Sample tests predict_to_user_average in the class RecSys\n",
    "sample_yp = sample_rs.predict_to_user_average()\n",
    "print(sample_rs.rmse(sample_yp))\n",
    "assert sample_rs.rmse(sample_yp)==approx(1.1429596846619763, abs=1e-3), \"Check predict_to_user_average in the RecSys class. Did you predict to average rating for the user?\" "
   ]
  },
  {
   "cell_type": "code",
   "execution_count": 9,
   "metadata": {
    "deletable": false,
    "editable": false,
    "nbgrader": {
     "cell_type": "code",
     "checksum": "870acf1d0ebd4b98fe4d170503948eb7",
     "grade": true,
     "grade_id": "cell-dbe3ae17d138f001",
     "locked": true,
     "points": 10,
     "schema_version": 3,
     "solution": false,
     "task": false
    }
   },
   "outputs": [
    {
     "name": "stdout",
     "output_type": "stream",
     "text": [
      "1.0352910334228647\n"
     ]
    }
   ],
   "source": [
    "# Hidden tests predict_to_user_average in the class RecSys\n",
    "yp = rs.predict_to_user_average()\n",
    "print(rs.rmse(yp))"
   ]
  },
  {
   "cell_type": "markdown",
   "metadata": {
    "deletable": false,
    "editable": false,
    "nbgrader": {
     "cell_type": "markdown",
     "checksum": "531bc11d4bb9ad16238bb3c6436cf1de",
     "grade": false,
     "grade_id": "cell-2e517f5f3bb7bc8e",
     "locked": true,
     "schema_version": 3,
     "solution": false,
     "task": false
    }
   },
   "source": [
    "# Q2. Content-Based model [25 pts]\n",
    "\n",
    "### 2a. Complete the function calc_movie_feature_matrix in the class ContentBased [5 pts]"
   ]
  },
  {
   "cell_type": "code",
   "execution_count": 10,
   "metadata": {
    "deletable": false,
    "editable": false,
    "nbgrader": {
     "cell_type": "code",
     "checksum": "9f4e132a376edada87d141fbcbabcdf9",
     "grade": false,
     "grade_id": "cell-0fd9bcbcf2e542fd",
     "locked": true,
     "schema_version": 3,
     "solution": false,
     "task": false
    }
   },
   "outputs": [],
   "source": [
    "cb = ContentBased(data)"
   ]
  },
  {
   "cell_type": "code",
   "execution_count": 11,
   "metadata": {
    "deletable": false,
    "editable": false,
    "nbgrader": {
     "cell_type": "code",
     "checksum": "16dc8acd6f1516386ebd64246d791bcc",
     "grade": true,
     "grade_id": "cell-232d6022e1da2f62",
     "locked": true,
     "points": 5,
     "schema_version": 3,
     "solution": false,
     "task": false
    },
    "scrolled": true
   },
   "outputs": [],
   "source": [
    "# tests calc_movie_feature_matrix in the class ContentBased \n",
    "assert(cb.Mm.shape==(3883, 18))"
   ]
  },
  {
   "cell_type": "markdown",
   "metadata": {
    "deletable": false,
    "editable": false,
    "nbgrader": {
     "cell_type": "markdown",
     "checksum": "e149458337a6465af9cdafbef0cb872d",
     "grade": false,
     "grade_id": "cell-a959245b68dc1033",
     "locked": true,
     "schema_version": 3,
     "solution": false,
     "task": false
    }
   },
   "source": [
    "### 2b. Complete the function calc_item_item_similarity in the class ContentBased [10 pts]\n",
    "This function updates `self.sim` and does not return a value.    \n",
    "Some factors to think about:     \n",
    "1. The movie feature matrix has binary elements. Which similarity metric should be used?\n",
    "2. What is the computation complexity (time complexity) on similarity calcuation?      \n",
    "Hint: You may use functions in the `scipy.spatial.distance` module on the dense matrix, but it is quite slow (think about the time complexity). If you want to speed up, you may try using functions in the `scipy.sparse` module. "
   ]
  },
  {
   "cell_type": "code",
   "execution_count": 12,
   "metadata": {
    "deletable": false,
    "editable": false,
    "nbgrader": {
     "cell_type": "code",
     "checksum": "7bfb32e08a1d2ecab886c4926f35af4b",
     "grade": true,
     "grade_id": "cell-b88ed74a662c75ac",
     "locked": true,
     "points": 1,
     "schema_version": 3,
     "solution": false,
     "task": false
    }
   },
   "outputs": [],
   "source": [
    "# Sample tests calc_item_item_similarity in ContentBased class \n",
    "\n",
    "sample_cb = ContentBased(sample_data)\n",
    "sample_cb.calc_item_item_similarity() \n",
    "\n",
    "# print(np.trace(sample_cb.sim))\n",
    "# print(sample_cb.sim[10:13,10:13])\n",
    "assert(sample_cb.sim.sum() > 0), \"Check calc_item_item_similarity.\"\n",
    "assert(np.trace(sample_cb.sim) == 3152), \"Check calc_item_item_similarity. What do you think np.trace(cb.sim) should be?\"\n",
    "\n",
    "\n",
    "ans = np.array([[1, 0.25, 0.],[0.25, 1, 0.],[0., 0., 1]])\n",
    "for pred, true in zip(sample_cb.sim[10:13, 10:13], ans):\n",
    "    assert approx(pred, 0.01) == true, \"Check calc_item_item_similarity. Look at cb.sim\""
   ]
  },
  {
   "cell_type": "markdown",
   "metadata": {
    "deletable": false,
    "editable": false,
    "nbgrader": {
     "cell_type": "markdown",
     "checksum": "6e97e513ad0659d93e513354f7d6a1bd",
     "grade": false,
     "grade_id": "cell-eec0c5d6e29e72f5",
     "locked": true,
     "schema_version": 3,
     "solution": false,
     "task": false
    }
   },
   "source": [
    "### 2c. Complete the function predict_from_sim in the class RecSys [5 pts]"
   ]
  },
  {
   "cell_type": "code",
   "execution_count": 18,
   "metadata": {
    "deletable": false,
    "editable": false,
    "nbgrader": {
     "cell_type": "code",
     "checksum": "2c791b828031bb24a9c0df5af8102a25",
     "grade": true,
     "grade_id": "cell-2d79f53ecabb1abf",
     "locked": true,
     "points": 1,
     "schema_version": 3,
     "solution": false,
     "task": false
    }
   },
   "outputs": [],
   "source": [
    "# for a, b in zip(sample_MV_users.uID, sample_MV_movies.mID):\n",
    "#     print(a, b, sample_cb.predict_from_sim(a,b))\n",
    "\n",
    "# Sample tests for predict_from_sim in RecSys class \n",
    "assert(sample_cb.predict_from_sim(245,276)==approx(2.5128205128205128,abs=1e-2)), \"Check predict_from_sim. Look at how you predicted a user rating on a movie given UserID and movieID.\"\n",
    "assert(sample_cb.predict_from_sim(2026,2436)==approx(2.785714285714286,abs=1e-2)), \"Check predict_from_sim. Look at how you predicted a user rating on a movie given UserID and movieID.\""
   ]
  },
  {
   "cell_type": "markdown",
   "metadata": {
    "deletable": false,
    "editable": false,
    "nbgrader": {
     "cell_type": "markdown",
     "checksum": "1dfb42c210f38f2b616193822663af52",
     "grade": false,
     "grade_id": "cell-4dbdef2549c27d3b",
     "locked": true,
     "schema_version": 3,
     "solution": false,
     "task": false
    }
   },
   "source": [
    "### 2d. Complete the function predict in the class RecSys [5 pts]\n",
    "After completing the predict method in the RecSys class, run the cell below to calculate rating prediction and RMSE. How much does the performance increase compared to the baseline results from above? "
   ]
  },
  {
   "cell_type": "code",
   "execution_count": 20,
   "metadata": {
    "deletable": false,
    "editable": false,
    "nbgrader": {
     "cell_type": "code",
     "checksum": "e8c34be7bd867ea3521024fb6ab4a03c",
     "grade": true,
     "grade_id": "cell-7d6e299ec837ac9e",
     "locked": true,
     "points": 1,
     "schema_version": 3,
     "solution": false,
     "task": false
    },
    "scrolled": true
   },
   "outputs": [
    {
     "name": "stdout",
     "output_type": "stream",
     "text": [
      "1.1962537249116723\n"
     ]
    }
   ],
   "source": [
    "# Sample tests method predict in the RecSys class \n",
    "\n",
    "sample_yp = sample_cb.predict()\n",
    "sample_rmse = sample_cb.rmse(sample_yp)\n",
    "print(sample_rmse)\n",
    "\n",
    "assert(sample_rmse==approx(1.1962537249116723, abs=1e-2)), \"Check method predict in the RecSys class.\""
   ]
  },
  {
   "cell_type": "code",
   "execution_count": 21,
   "metadata": {
    "deletable": false,
    "editable": false,
    "nbgrader": {
     "cell_type": "code",
     "checksum": "00c2f93e788dd22360e67f5ef88521a7",
     "grade": false,
     "grade_id": "cell-3232e0e311e56e19",
     "locked": true,
     "schema_version": 3,
     "solution": false,
     "task": false
    },
    "scrolled": true
   },
   "outputs": [
    {
     "name": "stdout",
     "output_type": "stream",
     "text": [
      "1.0128116783754684\n"
     ]
    }
   ],
   "source": [
    "# Hidden tests method predict in the RecSys class \n",
    "\n",
    "yp = cb.predict()\n",
    "rmse = cb.rmse(yp)\n",
    "print(rmse)"
   ]
  },
  {
   "cell_type": "markdown",
   "metadata": {
    "deletable": false,
    "editable": false,
    "nbgrader": {
     "cell_type": "markdown",
     "checksum": "44f2a6ef3ef78c7ffa924dd74e309beb",
     "grade": false,
     "grade_id": "cell-563e07a0cadec0db",
     "locked": true,
     "schema_version": 3,
     "solution": false,
     "task": false
    }
   },
   "source": [
    "# Q3. Collaborative Filtering\n",
    "\n",
    "### 3a. Complete the function cossim in the class Collaborative [10 pts]\n",
    "**To Do:**    \n",
    "1.Impute the unrated entries in self.Mr to the user's average rating then subtract by the user mean, call this matrix X.   \n",
    "2.Calculate cosine similarity for all item-item pairs. Don't forget to rescale the cosine similarity to be 0~1.    \n",
    "You might encounter divide by zero warning (numpy will fill nan value for that entry). In that case, you can fill those with appropriate values.    \n",
    "\n",
    "Hint: Let's say a movie item has not been rated by anyone. When you calculate similarity of this vector to anoter, you will get $\\vec{0}$=[0,0,0,....,0]. When you normalize this vector, you'll get divide by zero warning and it will make nan value in self.sim matrix. Theoretically what should the similarity value for $\\vec{x}_i \\cdot \\vec{x}_i$ when $\\vec{x}_i = \\vec{0}$? What about $\\vec{x}_i \\cdot \\vec{x}_j$ when $\\vec{x}_i = \\vec{0}$ and $\\vec{x}_j$ is an any vector?     \n",
    "\n",
    "Hint: You may use `scipy.spatial.distance.cosine`, but it will be slow because its cosine function does vector-vector operation whereas you can implement matrix-matrix operation using numpy to calculate all cosines all at once (it can be 100 times faster than vector-vector operation in our data). Also pay attention to the definition. The scipy.spatial.distance provides distance, not similarity. \n",
    "\n",
    "3. Run the below cell that calculate yp and RMSE. "
   ]
  },
  {
   "cell_type": "code",
   "execution_count": 23,
   "metadata": {
    "deletable": false,
    "editable": false,
    "nbgrader": {
     "cell_type": "code",
     "checksum": "4b6366ed3397587780416b7fa65f1456",
     "grade": true,
     "grade_id": "cell-054a0416525e124f",
     "locked": true,
     "points": 1,
     "schema_version": 3,
     "solution": false,
     "task": false
    },
    "scrolled": false
   },
   "outputs": [],
   "source": [
    "# Sample tests cossim method in the Collaborative class\n",
    "\n",
    "sample_cf = Collaborative(sample_data)\n",
    "sample_cf.calc_item_item_similarity(sample_cf.cossim)\n",
    "sample_yp = sample_cf.predict()\n",
    "sample_rmse = sample_cf.rmse(sample_yp)\n",
    "\n",
    "assert(np.trace(sample_cf.sim)==3152), \"Check cossim method in the Collaborative class. What should np.trace(cf.sim) equal?\"\n",
    "assert(sample_rmse==approx(1.1429596846619763, abs=5e-3)), \"Check cossim method in the Collaborative class. rmse result is not as expected.\"\n",
    "assert(sample_cf.sim[0,:3]==approx([1., 0.5, 0.5],abs=1e-2)), \"Check cossim method in the Collaborative class. cf.sim isn't giving the expected results.\""
   ]
  },
  {
   "cell_type": "code",
   "execution_count": 24,
   "metadata": {},
   "outputs": [
    {
     "name": "stdout",
     "output_type": "stream",
     "text": [
      "Time to calculate similarity: 0.9197645840467885\n"
     ]
    }
   ],
   "source": [
    "# Sample tests cossim method in the Collaborative class\n",
    "\n",
    "sample_cf = Collaborative(sample_data)\n",
    "t0=time.perf_counter()\n",
    "sample_cf.calc_item_item_similarity(sample_cf.cossim)\n",
    "t1=time.perf_counter()\n",
    "time_sim = t1-t0\n",
    "print(f\"Time to calculate similarity: {time_sim}\")\n",
    "sample_yp = sample_cf.predict()\n",
    "sample_rmse = sample_cf.rmse(sample_yp)\n",
    "\n",
    "assert(np.trace(sample_cf.sim)==3152), \"Check cossim method in the Collaborative class. What should np.trace(cf.sim) equal?\"\n",
    "assert(sample_rmse==approx(1.1429596846619763, abs=5e-3)), \"Check cossim method in the Collaborative class. rmse result is not as expected.\"\n",
    "assert(sample_cf.sim[0,:3]==approx([1., 0.5, 0.5],abs=1e-2)), \"Check cossim method in the Collaborative class. cf.sim isn't giving the expected results.\""
   ]
  },
  {
   "cell_type": "code",
   "execution_count": 25,
   "metadata": {
    "deletable": false,
    "editable": false,
    "nbgrader": {
     "cell_type": "code",
     "checksum": "5eb656568ac143aa7e40c212d53eb020",
     "grade": false,
     "grade_id": "cell-49a2c83fd032cee6",
     "locked": true,
     "schema_version": 3,
     "solution": false,
     "task": false
    }
   },
   "outputs": [
    {
     "name": "stdout",
     "output_type": "stream",
     "text": [
      "1.0263178440108902\n"
     ]
    }
   ],
   "source": [
    "# Hidden tests cossim method in the Collaborative class\n",
    "\n",
    "cf = Collaborative(data)\n",
    "cf.calc_item_item_similarity(cf.cossim)\n",
    "yp = cf.predict()\n",
    "rmse = cf.rmse(yp)\n",
    "print(rmse)"
   ]
  },
  {
   "cell_type": "markdown",
   "metadata": {
    "deletable": false,
    "editable": false,
    "nbgrader": {
     "cell_type": "markdown",
     "checksum": "15dbe8e3743dd847b4292cc46184e163",
     "grade": false,
     "grade_id": "cell-6dd829484cdb0a9f",
     "locked": true,
     "schema_version": 3,
     "solution": false,
     "task": false
    }
   },
   "source": [
    "### 3b. Complete the function jacsim in the class Collaborative [15 pts]\n",
    "**3b [15 pts] = 3b-i) [5 pts]+3b-ii) [5 pts]+ 3b-iii) [5 pts]**\n",
    "\n",
    "Function `jacsim` calculates jaccard similarity between items using collaborative filtering method. When we have a rating matrix `self.Mr`, the entries of Mr matrix are 0 to 5 (0: unrated, 1-5: rating). We are interested to see which threshold method works better when we use jaccard dimilarity in the collaborative filtering.    \n",
    "We may treat any rating 3 or above to be 1 and the negatively rated (below 3) and no-rating as 0. Or, we may treat movies with any ratings to be 1 and ones that has no rating as 0. In this question, we will complete a function jacsim that takes a transformed rating matrix X and calculate and returns a jaccard similarity matrix.     \n",
    "Let's consider these input cases for the utility matrix $M_r$ with ratings 1-5 and 0s for no-rating.    \n",
    "1. $M_r \\geq 3$ \n",
    "2. $M_r \\geq 0$ \n",
    "3. $M_r$, no transform.\n",
    "\n",
    "Things to think about: \n",
    "- The cases 1 and 2 are straightforward to calculate Jaccard, but what does Jaccard mean for multicategory data?\n",
    "- Time complexity: The matrix $M_r$ is much bigger than the item feature matrix $M_m$, therefore it will take very long time if we calculate on dense matrix.     \n",
    "Hint: Use sparse matrix.\n",
    "- Which method will give the best performance?"
   ]
  },
  {
   "cell_type": "markdown",
   "metadata": {
    "deletable": false,
    "editable": false,
    "nbgrader": {
     "cell_type": "markdown",
     "checksum": "4e73ce8798c3e0387a575fb5b47b628c",
     "grade": false,
     "grade_id": "cell-3cc4678686ede231",
     "locked": true,
     "schema_version": 3,
     "solution": false,
     "task": false
    }
   },
   "source": [
    "### 3b-i)  When $M_r\\geq3$ [5 pts]\n",
    "After you've implemented the jacsim function, run the code below. If implemented correctly, you'll have RMSE below 0.99. "
   ]
  },
  {
   "cell_type": "code",
   "execution_count": 32,
   "metadata": {
    "deletable": false,
    "editable": false,
    "nbgrader": {
     "cell_type": "code",
     "checksum": "d80694c2f4ea5b45f954a89f29d4e9a1",
     "grade": false,
     "grade_id": "cell-e0d9354a7b488cca",
     "locked": true,
     "schema_version": 3,
     "solution": false,
     "task": false
    },
    "scrolled": false
   },
   "outputs": [
    {
     "name": "stdout",
     "output_type": "stream",
     "text": [
      "similarity calculation time 1.822629062924534\n",
      "0.9819058692126349\n"
     ]
    }
   ],
   "source": [
    "cf = Collaborative(data)\n",
    "Xr = cf.Mr>=3\n",
    "t0=time.perf_counter()\n",
    "cf.calc_item_item_similarity(cf.jacsim,Xr)\n",
    "t1=time.perf_counter()\n",
    "time_sim = t1-t0\n",
    "print('similarity calculation time',time_sim)\n",
    "yp = cf.predict()\n",
    "rmse = cf.rmse(yp)\n",
    "print(rmse)\n",
    "assert(rmse<0.99)"
   ]
  },
  {
   "cell_type": "markdown",
   "metadata": {
    "deletable": false,
    "editable": false,
    "nbgrader": {
     "cell_type": "markdown",
     "checksum": "d7d6ac2ac83c2e4a79834f05debd3de5",
     "grade": false,
     "grade_id": "cell-0f2cf5a834bcb81f",
     "locked": true,
     "schema_version": 3,
     "solution": false,
     "task": false
    }
   },
   "source": [
    "### 3b-ii)  When $M_r\\geq1$ [5 pts]\n",
    "After you've implemented the jacsim function, run the code below. If implemented correctly, you'll have RMSE below 1.0. "
   ]
  },
  {
   "cell_type": "code",
   "execution_count": 37,
   "metadata": {
    "deletable": false,
    "editable": false,
    "nbgrader": {
     "cell_type": "code",
     "checksum": "2bf9d8963779b9a06356ce350d21d918",
     "grade": false,
     "grade_id": "cell-4477a51f4899a012",
     "locked": true,
     "schema_version": 3,
     "solution": false,
     "task": false
    }
   },
   "outputs": [
    {
     "name": "stdout",
     "output_type": "stream",
     "text": [
      "similarity calculation time 1.9908656359184533\n",
      "0.991363571262366\n"
     ]
    }
   ],
   "source": [
    "cf = Collaborative(data)\n",
    "Xr = cf.Mr>=1\n",
    "t0=time.perf_counter()\n",
    "cf.calc_item_item_similarity(cf.jacsim,Xr)\n",
    "t1=time.perf_counter()\n",
    "time_sim = t1-t0\n",
    "print('similarity calculation time',time_sim)\n",
    "yp = cf.predict()\n",
    "rmse = cf.rmse(yp)\n",
    "print(rmse)\n",
    "assert(rmse<1.0)"
   ]
  },
  {
   "cell_type": "markdown",
   "metadata": {
    "deletable": false,
    "editable": false,
    "nbgrader": {
     "cell_type": "markdown",
     "checksum": "140c251a8429e18078d9837647376db1",
     "grade": false,
     "grade_id": "cell-e75eac7e52ab8be3",
     "locked": true,
     "schema_version": 3,
     "solution": false,
     "task": false
    }
   },
   "source": [
    "### 3b-iii)  When $M_r$; no transform [5 pts]\n",
    "After you've implemented the jacsim function, run the code below. If implemented correctly, you'll have RMSE below 0.96"
   ]
  },
  {
   "cell_type": "code",
   "execution_count": 42,
   "metadata": {
    "deletable": false,
    "editable": false,
    "nbgrader": {
     "cell_type": "code",
     "checksum": "724694f71418cc260320e7a8ab1326f9",
     "grade": false,
     "grade_id": "cell-4089ff635a4df681",
     "locked": true,
     "schema_version": 3,
     "solution": false,
     "task": false
    },
    "scrolled": false
   },
   "outputs": [
    {
     "name": "stdout",
     "output_type": "stream",
     "text": [
      "similarity calculation time 3.9419157980009913\n",
      "0.9516534264490534\n"
     ]
    }
   ],
   "source": [
    "cf = Collaborative(data)\n",
    "Xr = cf.Mr.astype(int)\n",
    "t0=time.perf_counter()\n",
    "cf.calc_item_item_similarity(cf.jacsim,Xr)\n",
    "t1=time.perf_counter()\n",
    "time_sim = t1-t0\n",
    "print('similarity calculation time',time_sim)\n",
    "yp = cf.predict()\n",
    "rmse = cf.rmse(yp)\n",
    "print(rmse)\n",
    "assert(rmse<0.96)"
   ]
  },
  {
   "cell_type": "markdown",
   "metadata": {
    "deletable": false,
    "editable": false,
    "nbgrader": {
     "cell_type": "markdown",
     "checksum": "1fefd36b83885e756dd5056f3e3fdf52",
     "grade": false,
     "grade_id": "cell-f384dc5e284c5165",
     "locked": true,
     "schema_version": 3,
     "solution": false,
     "task": false
    }
   },
   "source": [
    "### 3.C Discussion [Peer Review]\n",
    "Answer the questions below in this week's Peer Review assignment. <br>\n",
    "1. Summarize the methods and performances: Below is a template/example.\n",
    "\n",
    "|Method|RMSE|\n",
    "|:----|:--------:|\n",
    "|Baseline, $Y_p$=3| |\n",
    "|Baseline, $Y_p=\\mu_u$| |\n",
    "|Content based, item-item| |\n",
    "|Collaborative, cosine| |\n",
    "|Collaborative, jaccard, $M_r\\geq 3$|  |\n",
    "|Collaborative, jaccard, $M_r\\geq 1$|  |\n",
    "|Collaborative, jaccard, $M_r$|  |\n",
    "\n",
    "2. Discuss which method(s) work better than others and why."
   ]
  },
  {
   "cell_type": "markdown",
   "metadata": {},
   "source": [
    "**Response:**\n",
    "\n",
    "1.)\n",
    "\n",
    "|Method|RMSE|\n",
    "|:----|:--------:|\n",
    "|Baseline, $Y_p$=3| ≈1.264 |\n",
    "|Baseline, $Y_p=\\mu_u$|≈1.143 |\n",
    "|Content based, item-item|≈1.196 |\n",
    "|Collaborative, cosine|≈1.026 |\n",
    "|Collaborative, jaccard, $M_r\\geq 3$| ≈0.982 |\n",
    "|Collaborative, jaccard, $M_r\\geq 1$| ≈0.991 |\n",
    "|Collaborative, jaccard, $M_r$| ≈0.952 |\n",
    "\n",
    "2.)\n",
    "\n",
    "The best method from my observations is the Collaborative method using Jaccard similarity for an untransformed rating matrix, i.e. the multiclass implementation in which each unique rating is compared collaboratively. The other Collaborative Jaccard similarity methods performed well in comparison, but not as well with the Mr >= 3 condition producing a better result than the binary rating scenario of >= 1.  Collaborative cosine performed better than predicting to user average followed by the Content based item-item method and the simple predict to 3 method.\n",
    "\n",
    "In turns of runtime efficiency, the fastest method was the sparse implementation of the Collaborative, Cosine similarity as I was able to reduce runtime to approx 1s.\n",
    "\n",
    "The collaborative implementation of the jaccard similarity made use of sparse matrices via csr_matrix and used a vectorized method for computing the union. The Jaccard similarity method for the multiclass scenario was the most accurate, but even with the aforementioned optimizations slowest of the collaborative methods as it must run for each of the unique ratings values."
   ]
  }
 ],
 "metadata": {
  "kernelspec": {
   "display_name": "Python 3",
   "language": "python",
   "name": "python3"
  },
  "language_info": {
   "codemirror_mode": {
    "name": "ipython",
    "version": 3
   },
   "file_extension": ".py",
   "mimetype": "text/x-python",
   "name": "python",
   "nbconvert_exporter": "python",
   "pygments_lexer": "ipython3",
   "version": "3.7.6"
  }
 },
 "nbformat": 4,
 "nbformat_minor": 4
}
